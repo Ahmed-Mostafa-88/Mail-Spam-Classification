{
 "cells": [
  {
   "cell_type": "markdown",
   "id": "4762f176",
   "metadata": {},
   "source": [
    "| Name | ID |\n",
    "| --- | --- |\n",
    "| Ahmed Mostafa AbdEl-Rahman | 20221372883 |\n",
    "| Mazen Gaber Mahmoud | 20221372110 |"
   ]
  },
  {
   "cell_type": "markdown",
   "id": "4d7e4295",
   "metadata": {},
   "source": [
    "# Import Libraries And Models"
   ]
  },
  {
   "cell_type": "code",
   "execution_count": 1,
   "id": "a471082c",
   "metadata": {
    "execution": {
     "iopub.execute_input": "2023-12-27T18:08:32.076294Z",
     "iopub.status.busy": "2023-12-27T18:08:32.075897Z",
     "iopub.status.idle": "2023-12-27T18:08:46.398723Z",
     "shell.execute_reply": "2023-12-27T18:08:46.397786Z",
     "shell.execute_reply.started": "2023-12-27T18:08:32.076263Z"
    }
   },
   "outputs": [
    {
     "name": "stderr",
     "output_type": "stream",
     "text": [
      "/opt/conda/lib/python3.10/site-packages/scipy/__init__.py:146: UserWarning: A NumPy version >=1.16.5 and <1.23.0 is required for this version of SciPy (detected version 1.24.3\n",
      "  warnings.warn(f\"A NumPy version >={np_minversion} and <{np_maxversion}\"\n"
     ]
    }
   ],
   "source": [
    "import pandas as pd\n",
    "from sklearn.model_selection import train_test_split\n",
    "from sklearn.feature_extraction.text import CountVectorizer\n",
    "from sklearn.naive_bayes import MultinomialNB\n",
    "from sklearn.linear_model import LogisticRegression\n",
    "from sklearn.metrics import accuracy_score\n",
    "from sklearn.metrics import classification_report\n",
    "import re\n",
    "from nltk.corpus import stopwords\n",
    "from nltk.tokenize import word_tokenize\n",
    "from nltk.stem import PorterStemmer\n",
    "import nltk\n",
    "import matplotlib.pyplot as plt\n",
    "from keras.preprocessing.text import Tokenizer\n",
    "from tensorflow.keras.preprocessing.sequence import pad_sequences\n",
    "from keras.models import Sequential\n",
    "from keras.layers import Embedding, LSTM, Dense, SimpleRNN, Dropout\n",
    "from keras.callbacks import EarlyStopping\n",
    "import numpy as np"
   ]
  },
  {
   "cell_type": "markdown",
   "id": "b342bdfd",
   "metadata": {},
   "source": [
    "# Loading The Dataset"
   ]
  },
  {
   "cell_type": "code",
   "execution_count": 2,
   "id": "69acee78",
   "metadata": {
    "execution": {
     "iopub.execute_input": "2023-12-27T18:08:46.400714Z",
     "iopub.status.busy": "2023-12-27T18:08:46.400234Z",
     "iopub.status.idle": "2023-12-27T18:08:46.731377Z",
     "shell.execute_reply": "2023-12-27T18:08:46.730575Z",
     "shell.execute_reply.started": "2023-12-27T18:08:46.400689Z"
    }
   },
   "outputs": [],
   "source": [
    "data_path = \"/kaggle/input/spam-classification-for-basic-nlp/Spam Email raw text for NLP.csv\"\n",
    "data = pd.read_csv(data_path)\n"
   ]
  },
  {
   "cell_type": "markdown",
   "id": "19ba218d",
   "metadata": {},
   "source": [
    "# Text Preprocessing"
   ]
  },
  {
   "cell_type": "code",
   "execution_count": 3,
   "id": "016cc0bf",
   "metadata": {
    "execution": {
     "iopub.execute_input": "2023-12-27T18:08:46.732814Z",
     "iopub.status.busy": "2023-12-27T18:08:46.732469Z",
     "iopub.status.idle": "2023-12-27T18:09:47.026597Z",
     "shell.execute_reply": "2023-12-27T18:09:47.025521Z",
     "shell.execute_reply.started": "2023-12-27T18:08:46.732782Z"
    }
   },
   "outputs": [],
   "source": [
    "stop_words = set(stopwords.words('english'))  # Set of common English stop words\n",
    "ps = PorterStemmer()  # Initialize Porter Stemmer for word stemming\n",
    "\n",
    "def preprocess_text(text):\n",
    "    \"\"\"\n",
    "    Preprocesses the text data by removing HTML tags, tokenizing, removing stop words,\n",
    "    and performing stemming on each word.\n",
    "\n",
    "    Args:\n",
    "    - text: Input text data to be preprocessed\n",
    "\n",
    "    Returns:\n",
    "    - clean_text: Processed and cleaned text data\n",
    "    \"\"\"\n",
    "    # Remove HTML tags using regex\n",
    "    clean_text = re.sub(r'<.*?>', '', text)\n",
    "    \n",
    "    # Tokenization\n",
    "    tokens = word_tokenize(clean_text)\n",
    "    \n",
    "    # Removing stop words and stemming\n",
    "    filtered_tokens = [ps.stem(word.lower()) for word in tokens if word.lower() not in stop_words and word.isalpha()]\n",
    "    \n",
    "    return ' '.join(filtered_tokens)\n",
    "\n",
    "# Apply preprocessing function to 'MESSAGE' column in the dataset and store processed text in 'Processed_Message'\n",
    "data['Processed_Message'] = data['MESSAGE'].apply(preprocess_text)\n",
    "\n",
    "# Split data into features (X: Processed_Message) and target (y: CATEGORY)\n",
    "X = data['Processed_Message']  # Features\n",
    "y = data['CATEGORY']  # Target labels"
   ]
  },
  {
   "cell_type": "markdown",
   "id": "4176e2d2",
   "metadata": {},
   "source": [
    "# Data Preprocessing"
   ]
  },
  {
   "cell_type": "code",
   "execution_count": 4,
   "id": "410bdcd3",
   "metadata": {
    "execution": {
     "iopub.execute_input": "2023-12-27T18:09:47.029666Z",
     "iopub.status.busy": "2023-12-27T18:09:47.029343Z",
     "iopub.status.idle": "2023-12-27T18:09:47.995794Z",
     "shell.execute_reply": "2023-12-27T18:09:47.994851Z",
     "shell.execute_reply.started": "2023-12-27T18:09:47.029639Z"
    }
   },
   "outputs": [],
   "source": [
    "# Split the data into training, validation, and testing sets using a 80-10-10 split\n",
    "X_temp, X_test, y_temp, y_test = train_test_split(X, y, test_size=0.1, random_state=42)\n",
    "X_train, X_val, y_train, y_val = train_test_split(X_temp, y_temp, test_size=0.11, random_state=42)\n",
    "\n",
    "# Vectorize the text data using CountVectorizer\n",
    "vectorizer = CountVectorizer() # Initialize CountVectorizer for text vectorization\n",
    "X_train_vectorized = vectorizer.fit_transform(X_train)  # Vectorize the training data\n",
    "X_val_vectorized = vectorizer.transform(X_val) # Vectorize the validation data based on the training data's vocabulary\n",
    "X_test_vectorized = vectorizer.transform(X_test) # Vectorize the testing data based on the training data's vocabulary"
   ]
  },
  {
   "cell_type": "markdown",
   "id": "166cb222",
   "metadata": {},
   "source": [
    "# Naive Bayes classifier"
   ]
  },
  {
   "cell_type": "code",
   "execution_count": 5,
   "id": "40afc734",
   "metadata": {
    "execution": {
     "iopub.execute_input": "2023-12-27T18:09:47.997282Z",
     "iopub.status.busy": "2023-12-27T18:09:47.996944Z",
     "iopub.status.idle": "2023-12-27T18:09:48.026325Z",
     "shell.execute_reply": "2023-12-27T18:09:48.025302Z",
     "shell.execute_reply.started": "2023-12-27T18:09:47.997254Z"
    }
   },
   "outputs": [
    {
     "name": "stdout",
     "output_type": "stream",
     "text": [
      "Naive Bayes Accuracy: 0.9706896551724138\n",
      "Naive Bayes Classification Report:\n",
      "              precision    recall  f1-score   support\n",
      "\n",
      "           0       0.96      0.99      0.98       376\n",
      "           1       0.99      0.93      0.96       204\n",
      "\n",
      "    accuracy                           0.97       580\n",
      "   macro avg       0.98      0.96      0.97       580\n",
      "weighted avg       0.97      0.97      0.97       580\n",
      "\n"
     ]
    }
   ],
   "source": [
    "# Train Naive Bayes classifier\n",
    "naive_bayes = MultinomialNB()  # Initialize a Multinomial Naive Bayes classifier\n",
    "naive_bayes.fit(X_train_vectorized, y_train)  # Train the classifier using the vectorized training data\n",
    "\n",
    "# Make predictions on the test set using the trained Naive Bayes classifier\n",
    "nb_predictions = naive_bayes.predict(X_test_vectorized)  # Predict labels for the test set\n",
    "nb_accuracy = accuracy_score(y_test, nb_predictions)  # Calculate the accuracy of the classifier\n",
    "print(\"Naive Bayes Accuracy:\", nb_accuracy)  # Print the accuracy of the Naive Bayes classifier\n",
    "\n",
    "# Generate a detailed classification report for Logistic Regression\n",
    "# This report includes precision, recall, F1-score, and support for each class\n",
    "nb_report = classification_report(y_test, nb_predictions) # Calculate precision, recall, F1-score, and support\n",
    "print(\"Naive Bayes Classification Report:\")\n",
    "print(nb_report)\n"
   ]
  },
  {
   "cell_type": "markdown",
   "id": "fcb2c0b5",
   "metadata": {},
   "source": [
    "# Logistic Regression classifier"
   ]
  },
  {
   "cell_type": "code",
   "execution_count": 6,
   "id": "0e229a59",
   "metadata": {
    "execution": {
     "iopub.execute_input": "2023-12-27T18:09:48.027716Z",
     "iopub.status.busy": "2023-12-27T18:09:48.027442Z",
     "iopub.status.idle": "2023-12-27T18:09:49.497937Z",
     "shell.execute_reply": "2023-12-27T18:09:49.496461Z",
     "shell.execute_reply.started": "2023-12-27T18:09:48.027692Z"
    }
   },
   "outputs": [
    {
     "name": "stdout",
     "output_type": "stream",
     "text": [
      "\n",
      "Logistic Regression Accuracy: 0.9810344827586207\n",
      "\n",
      "Logistic Regression Classification Report:\n",
      "              precision    recall  f1-score   support\n",
      "\n",
      "           0       0.99      0.98      0.99       376\n",
      "           1       0.97      0.98      0.97       204\n",
      "\n",
      "    accuracy                           0.98       580\n",
      "   macro avg       0.98      0.98      0.98       580\n",
      "weighted avg       0.98      0.98      0.98       580\n",
      "\n"
     ]
    }
   ],
   "source": [
    "# Train Logistic Regression classifier\n",
    "logistic_regression = LogisticRegression()  # Initialize a Logistic Regression classifier\n",
    "logistic_regression.fit(X_train_vectorized, y_train)  # Train the classifier using the vectorized training data\n",
    "\n",
    "# Make predictions on the test set using the trained Logistic Regression classifier\n",
    "lr_predictions = logistic_regression.predict(X_test_vectorized)  # Predict labels for the test set\n",
    "\n",
    "# Calculate the accuracy of the Logistic Regression classifier\n",
    "lr_accuracy = accuracy_score(y_test, lr_predictions)  # Calculate the accuracy\n",
    "\n",
    "# Print Logistic Regression Accuracy\n",
    "print(\"\\nLogistic Regression Accuracy:\", lr_accuracy)\n",
    "\n",
    "# Print Logistic Regression Model report\n",
    "lr_report = classification_report(y_test, lr_predictions)  \n",
    "print(\"\\nLogistic Regression Classification Report:\")\n",
    "print(lr_report)"
   ]
  },
  {
   "cell_type": "markdown",
   "id": "8da138a8",
   "metadata": {},
   "source": [
    "# Simple RNN Model"
   ]
  },
  {
   "cell_type": "code",
   "execution_count": 7,
   "id": "48f700aa",
   "metadata": {
    "execution": {
     "iopub.execute_input": "2023-12-27T18:09:49.505507Z",
     "iopub.status.busy": "2023-12-27T18:09:49.504747Z",
     "iopub.status.idle": "2023-12-27T18:09:50.799468Z",
     "shell.execute_reply": "2023-12-27T18:09:50.798513Z",
     "shell.execute_reply.started": "2023-12-27T18:09:49.505453Z"
    }
   },
   "outputs": [],
   "source": [
    "# Tokenize the text data for RNN models\n",
    "max_words = 1000  # Maximum number of words to keep based on frequency\n",
    "tokenizer = Tokenizer(num_words=max_words)  # Initialize Tokenizer with a maximum number of words\n",
    "tokenizer.fit_on_texts(X_train)  # Fit tokenizer on training data to build word index\n",
    "X_train_sequence = tokenizer.texts_to_sequences(X_train)  # Convert text sequences to numerical sequences\n",
    "X_val_sequence = tokenizer.texts_to_sequences(X_val)    # Convert validation text sequences to numerical sequences\n",
    "X_test_sequence = tokenizer.texts_to_sequences(X_test)  # Convert test text sequences to numerical sequences\n",
    "\n",
    "# Pad sequences for RNN models to ensure uniform length\n",
    "max_len = 150  # Maximum length of sequences\n",
    "X_train_pad = pad_sequences(X_train_sequence, maxlen=max_len)  # Pad training sequences to a fixed length\n",
    "X_val_pad = pad_sequences(X_val_sequence, maxlen=max_len)    # Pad validation sequences to a fixed length\n",
    "X_test_pad = pad_sequences(X_test_sequence, maxlen=max_len)  # Pad test sequences to a fixed length\n"
   ]
  },
  {
   "cell_type": "code",
   "execution_count": 8,
   "id": "abcd0741",
   "metadata": {
    "execution": {
     "iopub.execute_input": "2023-12-27T18:09:50.801001Z",
     "iopub.status.busy": "2023-12-27T18:09:50.800613Z",
     "iopub.status.idle": "2023-12-27T18:12:19.425164Z",
     "shell.execute_reply": "2023-12-27T18:12:19.424066Z",
     "shell.execute_reply.started": "2023-12-27T18:09:50.800901Z"
    }
   },
   "outputs": [
    {
     "name": "stdout",
     "output_type": "stream",
     "text": [
      "Epoch 1/5\n",
      "146/146 [==============================] - 45s 270ms/step - loss: 0.4146 - accuracy: 0.8132 - val_loss: 0.1371 - val_accuracy: 0.9599\n",
      "Epoch 2/5\n",
      "146/146 [==============================] - 29s 195ms/step - loss: 0.0879 - accuracy: 0.9774 - val_loss: 0.0764 - val_accuracy: 0.9721\n",
      "Epoch 3/5\n",
      "146/146 [==============================] - 23s 159ms/step - loss: 0.0505 - accuracy: 0.9882 - val_loss: 0.0473 - val_accuracy: 0.9808\n",
      "Epoch 4/5\n",
      "146/146 [==============================] - 22s 151ms/step - loss: 0.0406 - accuracy: 0.9899 - val_loss: 0.0522 - val_accuracy: 0.9808\n",
      "Epoch 5/5\n",
      "146/146 [==============================] - 21s 144ms/step - loss: 0.0226 - accuracy: 0.9940 - val_loss: 0.0608 - val_accuracy: 0.9808\n",
      "19/19 [==============================] - 1s 12ms/step\n",
      "\n",
      "Simple RNN Accuracy: 0.9793103448275862\n",
      "\n",
      "Simple RNN Model Summary:\n",
      "Model: \"sequential\"\n",
      "_________________________________________________________________\n",
      " Layer (type)                Output Shape              Param #   \n",
      "=================================================================\n",
      " embedding (Embedding)       (None, 150, 50)           50000     \n",
      "                                                                 \n",
      " simple_rnn (SimpleRNN)      (None, 50)                5050      \n",
      "                                                                 \n",
      " dropout (Dropout)           (None, 50)                0         \n",
      "                                                                 \n",
      " dense (Dense)               (None, 1)                 51        \n",
      "                                                                 \n",
      "=================================================================\n",
      "Total params: 55101 (215.24 KB)\n",
      "Trainable params: 55101 (215.24 KB)\n",
      "Non-trainable params: 0 (0.00 Byte)\n",
      "_________________________________________________________________\n",
      "None\n"
     ]
    }
   ],
   "source": [
    "# Add early stopping to prevent overfitting\n",
    "early_stopping = EarlyStopping(monitor='val_loss', patience=3)\n",
    "\n",
    "# Build Simple RNN model\n",
    "rnn_model = Sequential()  # Initialize a Sequential model\n",
    "rnn_model.add(Embedding(max_words, 50, input_length=max_len))  # Add an Embedding layer for word embeddings\n",
    "rnn_model.add(SimpleRNN(50))  # Add a Simple RNN layer with 50 units\n",
    "rnn_model.add(Dropout(0.5))  # Add dropout layer\n",
    "rnn_model.add(Dense(1, activation='sigmoid'))  # Add a Dense layer with sigmoid activation for binary classification\n",
    "rnn_model.compile(loss='binary_crossentropy', optimizer='adam', metrics=['accuracy'])  # Compile the model\n",
    "rnn_model.fit(X_train_pad, y_train, epochs=5, batch_size=32, validation_data=(X_val_pad, y_val), callbacks=[early_stopping])  # Train the model\n",
    "\n",
    "# Predict using the trained RNN model on the test data and calculate accuracy\n",
    "rnn_predictions = np.round(rnn_model.predict(X_test_pad)).astype(int).flatten()  # Make predictions\n",
    "rnn_accuracy = accuracy_score(y_test, rnn_predictions)  # Calculate accuracy\n",
    "print(\"\\nSimple RNN Accuracy:\", rnn_accuracy)  # Print Simple RNN accuracy\n",
    "\n",
    "# Print Simple RNN Model Summary showing model architecture and parameters\n",
    "print(\"\\nSimple RNN Model Summary:\")\n",
    "print(rnn_model.summary())"
   ]
  },
  {
   "cell_type": "markdown",
   "id": "067a644b",
   "metadata": {},
   "source": [
    "# LSTM Model"
   ]
  },
  {
   "cell_type": "code",
   "execution_count": 9,
   "id": "cffbd07a",
   "metadata": {
    "execution": {
     "iopub.execute_input": "2023-12-27T18:12:19.426746Z",
     "iopub.status.busy": "2023-12-27T18:12:19.426443Z",
     "iopub.status.idle": "2023-12-27T18:13:01.320106Z",
     "shell.execute_reply": "2023-12-27T18:13:01.318984Z",
     "shell.execute_reply.started": "2023-12-27T18:12:19.426718Z"
    }
   },
   "outputs": [
    {
     "name": "stdout",
     "output_type": "stream",
     "text": [
      "Epoch 1/5\n",
      "146/146 [==============================] - 20s 117ms/step - loss: 0.2786 - accuracy: 0.8763 - val_loss: 1.3337 - val_accuracy: 0.6725\n",
      "Epoch 2/5\n",
      "146/146 [==============================] - 7s 52ms/step - loss: 0.1195 - accuracy: 0.9582 - val_loss: 0.0612 - val_accuracy: 0.9739\n",
      "Epoch 3/5\n",
      "146/146 [==============================] - 6s 39ms/step - loss: 0.0750 - accuracy: 0.9739 - val_loss: 0.1015 - val_accuracy: 0.9669\n",
      "Epoch 4/5\n",
      "146/146 [==============================] - 5s 32ms/step - loss: 0.0666 - accuracy: 0.9741 - val_loss: 0.0476 - val_accuracy: 0.9774\n",
      "Epoch 5/5\n",
      "146/146 [==============================] - 3s 22ms/step - loss: 0.0418 - accuracy: 0.9838 - val_loss: 0.0630 - val_accuracy: 0.9739\n",
      "19/19 [==============================] - 0s 3ms/step\n",
      "\n",
      "LSTM Accuracy: 0.9672413793103448\n",
      "\n",
      "LSTM Model Summary:\n",
      "Model: \"sequential_1\"\n",
      "_________________________________________________________________\n",
      " Layer (type)                Output Shape              Param #   \n",
      "=================================================================\n",
      " embedding_1 (Embedding)     (None, 150, 50)           50000     \n",
      "                                                                 \n",
      " lstm (LSTM)                 (None, 50)                20200     \n",
      "                                                                 \n",
      " dropout_1 (Dropout)         (None, 50)                0         \n",
      "                                                                 \n",
      " dense_1 (Dense)             (None, 1)                 51        \n",
      "                                                                 \n",
      "=================================================================\n",
      "Total params: 70251 (274.42 KB)\n",
      "Trainable params: 70251 (274.42 KB)\n",
      "Non-trainable params: 0 (0.00 Byte)\n",
      "_________________________________________________________________\n",
      "None\n"
     ]
    }
   ],
   "source": [
    "# Build LSTM model\n",
    "lstm_model = Sequential()  # Initialize a Sequential model\n",
    "lstm_model.add(Embedding(max_words, 50, input_length=max_len))  # Add an Embedding layer for word embeddings\n",
    "lstm_model.add(LSTM(50))  # Add an LSTM layer with 50 units\n",
    "lstm_model.add(Dropout(0.5))  # Add dropout layer\n",
    "lstm_model.add(Dense(1, activation='sigmoid'))  # Add a Dense layer with sigmoid activation for binary classification\n",
    "lstm_model.compile(loss='binary_crossentropy', optimizer='adam', metrics=['accuracy'])  # Compile the model\n",
    "lstm_model.fit(X_train_pad, y_train, epochs=5, batch_size=32, validation_data=(X_val_pad, y_val), callbacks=[early_stopping])  # Train the model\n",
    "\n",
    "# Predict using the trained LSTM model on the test data and calculate accuracy\n",
    "lstm_predictions = np.round(lstm_model.predict(X_test_pad)).astype(int).flatten()  # Make predictions\n",
    "lstm_accuracy = accuracy_score(y_test, lstm_predictions)  # Calculate accuracy\n",
    "print(\"\\nLSTM Accuracy:\", lstm_accuracy)  # Print LSTM accuracy\n",
    "\n",
    "# Print LSTM Model Summary showing model architecture and parameters\n",
    "print(\"\\nLSTM Model Summary:\")\n",
    "print(lstm_model.summary())"
   ]
  },
  {
   "cell_type": "markdown",
   "id": "8385dcb8",
   "metadata": {},
   "source": [
    "# Models Comparison"
   ]
  },
  {
   "cell_type": "code",
   "execution_count": 10,
   "id": "ce1177d5",
   "metadata": {
    "execution": {
     "iopub.execute_input": "2023-12-27T18:13:01.324105Z",
     "iopub.status.busy": "2023-12-27T18:13:01.323489Z",
     "iopub.status.idle": "2023-12-27T18:13:01.579954Z",
     "shell.execute_reply": "2023-12-27T18:13:01.578875Z",
     "shell.execute_reply.started": "2023-12-27T18:13:01.324067Z"
    }
   },
   "outputs": [
    {
     "data": {
      "image/png": "[encoded data removed]",
      "text/plain": [
       "<Figure size 800x600 with 1 Axes>"
      ]
     },
     "metadata": {},
     "output_type": "display_data"
    }
   ],
   "source": [
    "# List of model names and their corresponding accuracies\n",
    "model_names = ['Naive Bayes', 'Logistic Regression', 'LSTM', 'Simple RNN']\n",
    "accuracies = [nb_accuracy, lr_accuracy, lstm_accuracy, rnn_accuracy]\n",
    "\n",
    "# Create a bar plot to compare the accuracies of different models\n",
    "plt.figure(figsize=(8, 6))  # Set the figure size for the plot\n",
    "plt.bar(model_names, accuracies, color=['blue', 'green', 'orange', 'red'])  # Plot the bar chart\n",
    "plt.title('Model Accuracy Comparison')  # Set the title of the plot\n",
    "plt.xlabel('Models')  # Set the label for the x-axis\n",
    "plt.ylabel('Accuracy')  # Set the label for the y-axis\n",
    "plt.ylim(0.8, 1.0)  # Set the y-axis limits to show accuracies between 0.8 and 1.0\n",
    "plt.show()  # Display the plot\n"
   ]
  },
  {
   "cell_type": "markdown",
   "id": "836a0ec0",
   "metadata": {},
   "source": [
    "# Examples"
   ]
  },
  {
   "cell_type": "code",
   "execution_count": 11,
   "id": "92a6a3cc",
   "metadata": {
    "execution": {
     "iopub.execute_input": "2023-12-27T18:13:01.581783Z",
     "iopub.status.busy": "2023-12-27T18:13:01.581400Z",
     "iopub.status.idle": "2023-12-27T18:13:01.861891Z",
     "shell.execute_reply": "2023-12-27T18:13:01.860905Z",
     "shell.execute_reply.started": "2023-12-27T18:13:01.581745Z"
    }
   },
   "outputs": [
    {
     "name": "stdout",
     "output_type": "stream",
     "text": [
      "\n",
      "Example 1: Congratulations! You've won a free vacation. Click here to claim your prize.\n",
      "Naive Bayes Prediction: spam\n",
      "Logistic Regression Prediction: spam\n",
      "1/1 [==============================] - 0s 22ms/step\n",
      "LSTM Prediction: spam\n",
      "1/1 [==============================] - 0s 30ms/step\n",
      "Simple RNN Prediction: spam\n",
      "\n",
      "Example 2: Hi,I am Ahmed.\n",
      "Naive Bayes Prediction: not spam\n",
      "Logistic Regression Prediction: spam\n",
      "1/1 [==============================] - 0s 23ms/step\n",
      "LSTM Prediction: not spam\n",
      "1/1 [==============================] - 0s 30ms/step\n",
      "Simple RNN Prediction: spam\n"
     ]
    }
   ],
   "source": [
    "# Load three example messages\n",
    "examples = [\n",
    "    \"Congratulations! You've won a free vacation. Click here to claim your prize.\" ,\n",
    "    \"Hi,I am Ahmed.\"\n",
    "]\n",
    "\n",
    "# Preprocess the examples\n",
    "processed_examples = [preprocess_text(example) for example in examples]\n",
    "\n",
    "# Function to map binary predictions to 'spam' or 'not spam'\n",
    "def map_to_label(prediction):\n",
    "    return 'spam' if prediction == 1 else 'not spam'\n",
    "\n",
    "# Get predictions from all models for the examples with 'spam' or 'not spam' labels\n",
    "for i, example in enumerate(processed_examples, start=1):\n",
    "    print(f\"\\nExample {i}: {examples[i-1]}\")\n",
    "    \n",
    "    # Naive Bayes Prediction\n",
    "    nb_pred = map_to_label(naive_bayes.predict(vectorizer.transform([example]))[0])\n",
    "    print(\"Naive Bayes Prediction:\", nb_pred)\n",
    "    \n",
    "    # Logistic Regression Prediction\n",
    "    lr_pred = map_to_label(logistic_regression.predict(vectorizer.transform([example]))[0])\n",
    "    print(\"Logistic Regression Prediction:\", lr_pred)\n",
    "    \n",
    "    # LSTM Prediction\n",
    "    lstm_pred = map_to_label(np.round(lstm_model.predict(pad_sequences(tokenizer.texts_to_sequences([example]), maxlen=max_len)))[0][0])\n",
    "    print(\"LSTM Prediction:\", lstm_pred)\n",
    "    \n",
    "    # Simple RNN Prediction\n",
    "    rnn_pred = map_to_label(np.round(rnn_model.predict(pad_sequences(tokenizer.texts_to_sequences([example]), maxlen=max_len)))[0][0])\n",
    "    print(\"Simple RNN Prediction:\", rnn_pred)\n"
   ]
  },
  {
   "cell_type": "code",
   "execution_count": null,
   "id": "d0630e57",
   "metadata": {},
   "outputs": [],
   "source": []
  }
 ],
 "metadata": {
  "kaggle": {
   "accelerator": "nvidiaTeslaT4",
   "dataSources": [
    {
     "datasetId": 1199979,
     "sourceId": 2005577,
     "sourceType": "datasetVersion"
    }
   ],
   "dockerImageVersionId": 30627,
   "isGpuEnabled": true,
   "isInternetEnabled": true,
   "language": "python",
   "sourceType": "notebook"
  },
  "kernelspec": {
   "display_name": "Python 3 (ipykernel)",
   "language": "python",
   "name": "python3"
  },
  "language_info": {
   "codemirror_mode": {
    "name": "ipython",
    "version": 3
   },
   "file_extension": ".py",
   "mimetype": "text/x-python",
   "name": "python",
   "nbconvert_exporter": "python",
   "pygments_lexer": "ipython3",
   "version": "3.9.12"
  }
 },
 "nbformat": 4,
 "nbformat_minor": 5
}
